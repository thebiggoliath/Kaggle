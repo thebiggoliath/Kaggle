{
 "cells": [
  {
   "cell_type": "code",
   "execution_count": null,
   "metadata": {},
   "outputs": [],
   "source": [
    "import pandas as pd\n",
    "\n",
    "import torch\n",
    "import torch.autograd as autograd\n",
    "import torch.nn as nn\n",
    "import torch.nn.functional as F\n",
    "import torch.optim as optim\n",
    "from torch.autograd import Variable\n",
    "\n",
    "\n",
    "import random\n",
    "\n",
    "from collections import defaultdict"
   ]
  },
  {
   "cell_type": "code",
   "execution_count": 8,
   "metadata": {},
   "outputs": [],
   "source": [
    "def replace(string):\n",
    "    c = '!#$%^&*(.)[]{};:,/\"<>?-`@\\'~”—=_·\\n+123456“7890‘’'\n",
    "    for i in range(len(c)):\n",
    "        string = string.replace(c[i],\" \")\n",
    "    return(string)\n",
    "data_set = pd.read_csv('./src/train.csv')\n",
    "test_set = pd.read_csv('./src/test.csv')"
   ]
  },
  {
   "cell_type": "code",
   "execution_count": 9,
   "metadata": {},
   "outputs": [],
   "source": [
    "data = replace(data_set[\"comment_text\"].str.cat(sep = \"|zkr\")).split(\"|zkr\")\n",
    "data_test = replace(test_set[\"comment_text\"].str.cat(sep = \"|zkr\")).split(\"|zkr\")\n",
    "test_id = test_set[\"id\"].str.cat(sep = \"|\").split(\"|\")"
   ]
  },
  {
   "cell_type": "code",
   "execution_count": 10,
   "metadata": {},
   "outputs": [],
   "source": [
    "sentence = list(\" \".join(d.split()) for d in data)\n",
    "test_sentence = list(\" \".join(d.split()) for d in data_test)"
   ]
  },
  {
   "cell_type": "code",
   "execution_count": 11,
   "metadata": {},
   "outputs": [],
   "source": [
    "words = set((\"\".join([j for i in sentence for j in i])).split())"
   ]
  },
  {
   "cell_type": "code",
   "execution_count": 12,
   "metadata": {},
   "outputs": [],
   "source": [
    "word_to_ix = defaultdict(int)\n",
    "for i,word in enumerate(words):\n",
    "    word_to_ix[word] = i+special_token\n",
    "word_to_ix[\"<unk>\"] = 0\n",
    "word_to_ix[\"<pad>\"] = 1"
   ]
  },
  {
   "cell_type": "code",
   "execution_count": 13,
   "metadata": {},
   "outputs": [],
   "source": [
    "def sentence_to_dict(sentence,max_len,word_to_ix):\n",
    "    s_split = sentence.split()\n",
    "    indi = [word_to_ix[word] for word in s_split]\n",
    "    if len(indi) < max_len:\n",
    "        indi += [word_to_ix[\"<pad>\"]] * (max_len - len(indi))\n",
    "    else:\n",
    "        indi = indi[:max_len]\n",
    "    return indi"
   ]
  },
  {
   "cell_type": "code",
   "execution_count": 14,
   "metadata": {},
   "outputs": [],
   "source": [
    "def create_batch(sentences,max_len,word_to_ix,batch_size,data_set):\n",
    "    correct = []\n",
    "    sentence = []\n",
    "    for _ in range(batch_size):\n",
    "        index = random.randint(0,len(sentences)-1)\n",
    "        sentence.append(sentences[index])\n",
    "        correct.append([data_set[\"toxic\"][index],data_set[\"severe_toxic\"][index],data_set[\"obscene\"][index],data_set[\"threat\"][index],data_set[\"insult\"][index],\\\n",
    "                        data_set[\"identity_hate\"][index]])\n",
    "    sen_idx = [sentence_to_dict(sen,max_len,word_to_ix) for sen in sentence]\n",
    "    return sen_idx,correct"
   ]
  },
  {
   "cell_type": "code",
   "execution_count": 15,
   "metadata": {},
   "outputs": [],
   "source": [
    "def validate_batch(test_sentence,max_len,word_to_ix,batch_size,test_id,test_index):\n",
    "    test_id_batch = []\n",
    "    test_sentence_batch = []\n",
    "    end = test_index+batch_size if test_index+batch_size < len (test_id) else len (test_id)\n",
    "    for i in range(test_index,end):\n",
    "        test_id_batch.append(test_id[i])\n",
    "        test_sentence_batch.append(test_sentence[i])\n",
    "    test_sen_idx = [sentence_to_dict(sen,max_len,word_to_ix) for sen in test_sentence_batch]\n",
    "    return test_sen_idx,test_id_batch"
   ]
  }
 ],
 "metadata": {
  "kernelspec": {
   "display_name": "Python 3",
   "language": "python",
   "name": "python3"
  },
  "language_info": {
   "codemirror_mode": {
    "name": "ipython",
    "version": 3
   },
   "file_extension": ".py",
   "mimetype": "text/x-python",
   "name": "python",
   "nbconvert_exporter": "python",
   "pygments_lexer": "ipython3",
   "version": "3.5.5"
  }
 },
 "nbformat": 4,
 "nbformat_minor": 2
}
